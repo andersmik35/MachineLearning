{
 "cells": [
  {
   "cell_type": "code",
   "execution_count": 1,
   "id": "ba99e5c3",
   "metadata": {},
   "outputs": [],
   "source": [
    "categories = ['alt.atheism', 'soc.religion.christian','comp.graphics', 'sci.med']"
   ]
  },
  {
   "cell_type": "code",
   "execution_count": 2,
   "id": "f9fe4d89",
   "metadata": {},
   "outputs": [],
   "source": [
    "# Load the list of files matching those categories as follows:"
   ]
  },
  {
   "cell_type": "code",
   "execution_count": 3,
   "id": "a096f487",
   "metadata": {},
   "outputs": [],
   "source": [
    "from sklearn.datasets import fetch_20newsgroups\n",
    "twenty_train = fetch_20newsgroups(\n",
    "                  subset='train', categories=categories,\n",
    "                  shuffle=True, random_state=42)"
   ]
  },
  {
   "cell_type": "code",
   "execution_count": 4,
   "id": "95b1b89c",
   "metadata": {},
   "outputs": [
    {
     "data": {
      "text/plain": [
       "['alt.atheism', 'comp.graphics', 'sci.med', 'soc.religion.christian']"
      ]
     },
     "execution_count": 4,
     "metadata": {},
     "output_type": "execute_result"
    }
   ],
   "source": [
    "# Did we get what we wanted?\n",
    "twenty_train.target_names"
   ]
  },
  {
   "cell_type": "code",
   "execution_count": 5,
   "id": "c7eb3fcd",
   "metadata": {},
   "outputs": [
    {
     "data": {
      "text/plain": [
       "2257"
      ]
     },
     "execution_count": 5,
     "metadata": {},
     "output_type": "execute_result"
    }
   ],
   "source": [
    "# Size\n",
    "len(twenty_train.data)"
   ]
  },
  {
   "cell_type": "code",
   "execution_count": 6,
   "id": "c166171b",
   "metadata": {},
   "outputs": [
    {
     "name": "stdout",
     "output_type": "stream",
     "text": [
      "From: sd345@city.ac.uk (Michael Collier)\n",
      "Subject: Converting images to HP LaserJet III?\n"
     ]
    }
   ],
   "source": [
    "# Lets see what we have :\n",
    "print(\"\\n\".join(twenty_train.data[0].split(\"\\n\")[:2]))"
   ]
  },
  {
   "cell_type": "code",
   "execution_count": 7,
   "id": "dc0cd4e3",
   "metadata": {},
   "outputs": [
    {
     "name": "stdout",
     "output_type": "stream",
     "text": [
      "comp.graphics\n"
     ]
    }
   ],
   "source": [
    "print(twenty_train.target_names[twenty_train.target[0]])"
   ]
  },
  {
   "cell_type": "code",
   "execution_count": 8,
   "id": "dfdef5fb",
   "metadata": {},
   "outputs": [
    {
     "name": "stdout",
     "output_type": "stream",
     "text": [
      "From: bobs@thnext.mit.edu (Robert Singleton)\n",
      "Subject: Re: Americans and Evolution\n"
     ]
    }
   ],
   "source": [
    "print(\"\\n\".join(twenty_train.data[1000].split(\"\\n\")[:2]))"
   ]
  },
  {
   "cell_type": "code",
   "execution_count": 9,
   "id": "66bc6c3b",
   "metadata": {},
   "outputs": [
    {
     "name": "stdout",
     "output_type": "stream",
     "text": [
      "alt.atheism\n"
     ]
    }
   ],
   "source": [
    "print(twenty_train.target_names[twenty_train.target[1000]])"
   ]
  },
  {
   "cell_type": "code",
   "execution_count": 10,
   "id": "99c40bfa",
   "metadata": {},
   "outputs": [],
   "source": [
    "#scikit-learn provides basic tools to process text using the Bag of Words representation."
   ]
  },
  {
   "cell_type": "code",
   "execution_count": 11,
   "id": "29a45f50",
   "metadata": {},
   "outputs": [],
   "source": [
    "from sklearn.feature_extraction.text import CountVectorizer"
   ]
  },
  {
   "cell_type": "code",
   "execution_count": 12,
   "id": "92f21702",
   "metadata": {},
   "outputs": [],
   "source": [
    "# Punctuation and single letter words will be automatically removed."
   ]
  },
  {
   "cell_type": "code",
   "execution_count": 13,
   "id": "2cb6f28b",
   "metadata": {},
   "outputs": [],
   "source": [
    "count_vect = CountVectorizer(stop_words='english')"
   ]
  },
  {
   "cell_type": "code",
   "execution_count": 14,
   "id": "13a14edf",
   "metadata": {},
   "outputs": [],
   "source": [
    "X_train_counts = count_vect.fit_transform(twenty_train.data)"
   ]
  },
  {
   "cell_type": "code",
   "execution_count": 15,
   "id": "ec0a4c89",
   "metadata": {},
   "outputs": [
    {
     "data": {
      "text/plain": [
       "(2257, 35482)"
      ]
     },
     "execution_count": 15,
     "metadata": {},
     "output_type": "execute_result"
    }
   ],
   "source": [
    " X_train_counts.shape"
   ]
  },
  {
   "cell_type": "code",
   "execution_count": 16,
   "id": "f51d2111",
   "metadata": {},
   "outputs": [],
   "source": [
    "#Occurrence count is a good start but there is an issue: \n",
    "#longer documents will have higher average count values than shorter documents, \n",
    "#even though they might talk about the same topics.\n",
    "\n",
    "#To avoid these potential discrepancies it suffices to divide the number \n",
    "#of occurrences of each word in a document by the total number of words in the document: \n",
    "#these new features are called “tf” for Term Frequencies.\n",
    "\n",
    "#Another refinement on top of tf is to downscale weights for words \n",
    "#that occur in many documents in the corpus and are therefore less \n",
    "#informative than those that occur only in a smaller portion of the corpus.\n",
    "\n",
    "#This downscaling is called tf–idf for “Term Frequency times Inverse Document Frequency”."
   ]
  },
  {
   "cell_type": "code",
   "execution_count": 17,
   "id": "058d5419",
   "metadata": {},
   "outputs": [],
   "source": [
    "from sklearn.feature_extraction.text import TfidfTransformer"
   ]
  },
  {
   "cell_type": "code",
   "execution_count": 18,
   "id": "d797bcc3",
   "metadata": {},
   "outputs": [],
   "source": [
    "tfidf_transformer = TfidfTransformer()"
   ]
  },
  {
   "cell_type": "code",
   "execution_count": 19,
   "id": "6354c2a6",
   "metadata": {},
   "outputs": [],
   "source": [
    "X_train_tfidf = tfidf_transformer.fit_transform(X_train_counts)"
   ]
  },
  {
   "cell_type": "code",
   "execution_count": 20,
   "id": "760da580",
   "metadata": {},
   "outputs": [
    {
     "data": {
      "text/plain": [
       "MLPClassifier(alpha=1e-05, hidden_layer_sizes=(10, 10, 10), random_state=1,\n",
       "              solver='lbfgs')"
      ]
     },
     "execution_count": 20,
     "metadata": {},
     "output_type": "execute_result"
    }
   ],
   "source": [
    "# Import the SKlearn model we are using\n",
    "from sklearn.neural_network import MLPClassifier\n",
    "clf = MLPClassifier(solver='lbfgs', alpha=1e-5,\n",
    "                      hidden_layer_sizes=(10, 10,10), random_state=1)\n",
    "clf.fit(X_train_tfidf, twenty_train.target)"
   ]
  },
  {
   "cell_type": "code",
   "execution_count": 37,
   "id": "05ce1222",
   "metadata": {},
   "outputs": [],
   "source": [
    "docs_new = ['Doctors are bad', 'OpenGL on the GPU is fast']"
   ]
  },
  {
   "cell_type": "code",
   "execution_count": 38,
   "id": "730a1af4",
   "metadata": {},
   "outputs": [],
   "source": [
    "X_new_counts = count_vect.transform(docs_new)\n",
    "X_new_tfidf = tfidf_transformer.transform(X_new_counts)"
   ]
  },
  {
   "cell_type": "code",
   "execution_count": 39,
   "id": "aa8d1f44",
   "metadata": {},
   "outputs": [],
   "source": [
    "predicted = clf.predict(X_new_tfidf)"
   ]
  },
  {
   "cell_type": "code",
   "execution_count": 40,
   "id": "9d0d6347",
   "metadata": {},
   "outputs": [
    {
     "name": "stdout",
     "output_type": "stream",
     "text": [
      "'Doctors are bad' => sci.med\n",
      "'OpenGL on the GPU is fast' => comp.graphics\n"
     ]
    }
   ],
   "source": [
    "for doc, category in zip(docs_new, predicted):\n",
    "   print('%r => %s' % (doc, twenty_train.target_names[category]))"
   ]
  },
  {
   "cell_type": "code",
   "execution_count": 41,
   "id": "431ccd38",
   "metadata": {},
   "outputs": [],
   "source": [
    "twenty_test = fetch_20newsgroups(\n",
    "     subset='test', categories=categories,\n",
    "     shuffle=True, random_state=42)"
   ]
  },
  {
   "cell_type": "code",
   "execution_count": 42,
   "id": "3583c98b",
   "metadata": {},
   "outputs": [],
   "source": [
    "from sklearn.pipeline import Pipeline\n",
    "text_clf = Pipeline([\n",
    "        ('vect', CountVectorizer()),\n",
    "        ('tfidf', TfidfTransformer()),\n",
    "        ('clf', MLPClassifier(solver='lbfgs', alpha=1e-5, hidden_layer_sizes=(10, 10,10), random_state=1)),\n",
    "         ])"
   ]
  },
  {
   "cell_type": "code",
   "execution_count": 43,
   "id": "26c8486d",
   "metadata": {},
   "outputs": [
    {
     "data": {
      "text/plain": [
       "Pipeline(steps=[('vect', CountVectorizer()), ('tfidf', TfidfTransformer()),\n",
       "                ('clf',\n",
       "                 MLPClassifier(alpha=1e-05, hidden_layer_sizes=(10, 10, 10),\n",
       "                               random_state=1, solver='lbfgs'))])"
      ]
     },
     "execution_count": 43,
     "metadata": {},
     "output_type": "execute_result"
    }
   ],
   "source": [
    "text_clf.fit(twenty_train.data, twenty_train.target)"
   ]
  },
  {
   "cell_type": "code",
   "execution_count": 44,
   "id": "163e5025",
   "metadata": {},
   "outputs": [],
   "source": [
    "predicted = text_clf.predict(twenty_test.data)"
   ]
  },
  {
   "cell_type": "code",
   "execution_count": 45,
   "id": "d06d413c",
   "metadata": {},
   "outputs": [
    {
     "data": {
      "text/plain": [
       "0.8242343541944075"
      ]
     },
     "execution_count": 45,
     "metadata": {},
     "output_type": "execute_result"
    }
   ],
   "source": [
    "import numpy as np\n",
    "np.mean(predicted == twenty_test.target) "
   ]
  },
  {
   "cell_type": "code",
   "execution_count": null,
   "id": "e67fb520",
   "metadata": {},
   "outputs": [],
   "source": []
  }
 ],
 "metadata": {
  "kernelspec": {
   "display_name": "Python 3",
   "language": "python",
   "name": "python3"
  },
  "language_info": {
   "codemirror_mode": {
    "name": "ipython",
    "version": 3
   },
   "file_extension": ".py",
   "mimetype": "text/x-python",
   "name": "python",
   "nbconvert_exporter": "python",
   "pygments_lexer": "ipython3",
   "version": "3.6.6"
  }
 },
 "nbformat": 4,
 "nbformat_minor": 5
}
