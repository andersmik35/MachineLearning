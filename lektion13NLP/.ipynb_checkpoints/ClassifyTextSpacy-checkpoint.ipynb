{
 "cells": [
  {
   "cell_type": "code",
   "execution_count": 1,
   "id": "e5aa7eca",
   "metadata": {},
   "outputs": [],
   "source": [
    "# Here we are going to analyze an unknown text\n",
    "# Important:\n",
    "# - Without looking in the text ! :)"
   ]
  },
  {
   "cell_type": "code",
   "execution_count": 2,
   "id": "d3722ca6",
   "metadata": {},
   "outputs": [],
   "source": [
    "import spacy"
   ]
  },
  {
   "cell_type": "code",
   "execution_count": 4,
   "id": "6a1ff54b",
   "metadata": {},
   "outputs": [],
   "source": [
    "# Load the installed model \"en_core_web_sm\"\n",
    "nlp = spacy.load(\"en_core_web_md\")"
   ]
  },
  {
   "cell_type": "code",
   "execution_count": 5,
   "id": "836e6d5f",
   "metadata": {},
   "outputs": [],
   "source": [
    "# So what is this text about?"
   ]
  },
  {
   "cell_type": "code",
   "execution_count": 6,
   "id": "0d9cdc0e",
   "metadata": {},
   "outputs": [],
   "source": [
    "doc2 = nlp(\"John McCain and I visited the Apple Store in Manhattan.\")"
   ]
  },
  {
   "cell_type": "code",
   "execution_count": 8,
   "id": "7de91b47",
   "metadata": {},
   "outputs": [
    {
     "name": "stdout",
     "output_type": "stream",
     "text": [
      "John McCain\n",
      "the Apple Store\n",
      "Manhattan\n"
     ]
    }
   ],
   "source": [
    "for item in doc2.ents:\n",
    "    print(item)"
   ]
  },
  {
   "cell_type": "code",
   "execution_count": 10,
   "id": "5e1e7270",
   "metadata": {},
   "outputs": [
    {
     "name": "stdout",
     "output_type": "stream",
     "text": [
      "John McCain PERSON\n",
      "the Apple Store ORG\n",
      "Manhattan GPE\n"
     ]
    }
   ],
   "source": [
    "for item in doc2.ents:\n",
    "    print (item.text, item.label_)"
   ]
  },
  {
   "cell_type": "code",
   "execution_count": 13,
   "id": "8a2768c5",
   "metadata": {},
   "outputs": [],
   "source": [
    "doc3 = nlp(open(\"EightThings.txt\").read())"
   ]
  },
  {
   "cell_type": "code",
   "execution_count": 15,
   "id": "856c29d9",
   "metadata": {},
   "outputs": [
    {
     "name": "stdout",
     "output_type": "stream",
     "text": [
      "1 CARDINAL\n",
      "the Stockton-Darlington Railway ORG\n",
      "1825 DATE\n",
      "30 miles per hour QUANTITY\n",
      "2 CARDINAL\n",
      "Sweden GPE\n",
      "Devil PERSON\n",
      "4 CARDINAL\n",
      "the mid-2000s DATE\n",
      "TCO93 PERSON\n",
      "5 CARDINAL\n",
      "6 CARDINAL\n",
      "Y2K PRODUCT\n",
      "the year 2000 DATE\n",
      "two-digit year DATE\n",
      "Guardian ORG\n",
      "Newcastle GPE\n",
      "7 CARDINAL\n",
      "Digital ORG\n",
      "Amazon ORG\n",
      "Google ORG\n",
      "Japan GPE\n",
      "8 CARDINAL\n",
      "1997 DATE\n",
      "US GPE\n",
      "Richard Seed PERSON\n",
      "first ORDINAL\n",
      "18 months - and later DATE\n",
      "first ORDINAL\n",
      "Orphan Black GPE\n"
     ]
    }
   ],
   "source": [
    "for item in doc3.ents:\n",
    "    print (item.text, item.label_)"
   ]
  },
  {
   "cell_type": "code",
   "execution_count": 17,
   "id": "31b43b9e",
   "metadata": {},
   "outputs": [],
   "source": [
    "# Again, Dont look into the text by opening the text in an editor :) \n",
    "# Only use Spacy code to look "
   ]
  },
  {
   "cell_type": "code",
   "execution_count": 18,
   "id": "54187134",
   "metadata": {},
   "outputs": [],
   "source": [
    "# What is this text about ?"
   ]
  },
  {
   "cell_type": "code",
   "execution_count": 19,
   "id": "1449e073",
   "metadata": {},
   "outputs": [],
   "source": [
    "# Google what you can do, and ask chatGPT."
   ]
  },
  {
   "cell_type": "code",
   "execution_count": 20,
   "id": "ae16ab36",
   "metadata": {},
   "outputs": [],
   "source": [
    "# So here you go..."
   ]
  },
  {
   "cell_type": "code",
   "execution_count": null,
   "id": "8cdf9b48",
   "metadata": {},
   "outputs": [],
   "source": []
  }
 ],
 "metadata": {
  "kernelspec": {
   "display_name": "Python 3 (ipykernel)",
   "language": "python",
   "name": "python3"
  },
  "language_info": {
   "codemirror_mode": {
    "name": "ipython",
    "version": 3
   },
   "file_extension": ".py",
   "mimetype": "text/x-python",
   "name": "python",
   "nbconvert_exporter": "python",
   "pygments_lexer": "ipython3",
   "version": "3.9.13"
  }
 },
 "nbformat": 4,
 "nbformat_minor": 5
}
